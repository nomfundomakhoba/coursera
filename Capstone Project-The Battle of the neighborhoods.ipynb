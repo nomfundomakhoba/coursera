{
 "cells": [
  {
   "cell_type": "markdown",
   "metadata": {},
   "source": [
    "Capstone Project: The Battle of Neighborhoods- Toronto"
   ]
  },
  {
   "cell_type": "markdown",
   "metadata": {},
   "source": [
    "Introduction: Business Problem\n",
    "    \n",
    "This project aims to find a suitable location for an Indian restaurant in Toronto area. This project will be targeting entrepreneurs who are interested in establishing an Indian restaurant. Indian food is popular among Asians; therefore, entrepreneurs may want to service this group of people by opening a restaurant in Asian communities. The focus will be areas in Toronto that are mainly inhabited by Asians. \n",
    "This report will be using the data science methods and tools along with machine learning, this project aims to answer the following question: Which areas are most suitable for a new Indian Restaurant?\n"
   ]
  },
  {
   "cell_type": "markdown",
   "metadata": {},
   "source": [
    "Data:\n",
    "\n",
    "Based on our identified problem, factors that will influence our decision are:\n",
    "    -The most common areas in Asian communities within Toronto.\n",
    "    \n",
    "The following data will be extracted and generated:\n",
    "    1.List of neighborhoods in Toronto, Canada.\n",
    "    2.Latitude and Longitude of these neighbourhoods.\n",
    "    3.Venue data related to Indian restaurants.This will help find the areas that suitable to open an Indian Restaurant.\n",
    "\n",
    "Data extraction methods:\n",
    "    1. Scrapping of Toronto neighbourhoods via Wikipedia\n",
    "    2. Getting Latitude and Longitude data of these neighbourhoods via Geocoder package\n",
    "    3. Using Foursquare API to get venue data related to these neighbourhoods\n",
    "    \n"
   ]
  },
  {
   "cell_type": "code",
   "execution_count": null,
   "metadata": {},
   "outputs": [],
   "source": []
  }
 ],
 "metadata": {
  "kernelspec": {
   "display_name": "Python",
   "language": "python",
   "name": "conda-env-python-py"
  },
  "language_info": {
   "codemirror_mode": {
    "name": "ipython",
    "version": 3
   },
   "file_extension": ".py",
   "mimetype": "text/x-python",
   "name": "python",
   "nbconvert_exporter": "python",
   "pygments_lexer": "ipython3",
   "version": "3.6.10"
  }
 },
 "nbformat": 4,
 "nbformat_minor": 4
}
